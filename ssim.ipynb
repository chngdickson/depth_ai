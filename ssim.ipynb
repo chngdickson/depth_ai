{
 "cells": [
  {
   "cell_type": "code",
   "execution_count": 1,
   "id": "e4e73759-86e1-46f3-baef-71a295d3c355",
   "metadata": {},
   "outputs": [
    {
     "ename": "ModuleNotFoundError",
     "evalue": "No module named 'torch'",
     "output_type": "error",
     "traceback": [
      "\u001b[1;31m---------------------------------------------------------------------------\u001b[0m",
      "\u001b[1;31mModuleNotFoundError\u001b[0m                       Traceback (most recent call last)",
      "Input \u001b[1;32mIn [1]\u001b[0m, in \u001b[0;36m<cell line: 1>\u001b[1;34m()\u001b[0m\n\u001b[1;32m----> 1\u001b[0m \u001b[38;5;28;01mimport\u001b[39;00m \u001b[38;5;21;01mtorch\u001b[39;00m  \n\u001b[0;32m      2\u001b[0m \u001b[38;5;28;01mimport\u001b[39;00m \u001b[38;5;21;01mtorch\u001b[39;00m\u001b[38;5;21;01m.\u001b[39;00m\u001b[38;5;21;01mnn\u001b[39;00m \u001b[38;5;28;01mas\u001b[39;00m \u001b[38;5;21;01mnn\u001b[39;00m\n\u001b[0;32m      3\u001b[0m \u001b[38;5;28;01mimport\u001b[39;00m \u001b[38;5;21;01mnumpy\u001b[39;00m \u001b[38;5;28;01mas\u001b[39;00m \u001b[38;5;21;01mnp\u001b[39;00m\n",
      "\u001b[1;31mModuleNotFoundError\u001b[0m: No module named 'torch'"
     ]
    }
   ],
   "source": [
    "import torch  \n",
    "import torch.nn as nn\n",
    "import numpy as np\n",
    "import math\n",
    "from PIL import Image\n",
    "import cv2"
   ]
  },
  {
   "cell_type": "code",
   "execution_count": 2,
   "id": "b58178d3-93b0-48f8-8e05-c105b96b4d62",
   "metadata": {},
   "outputs": [
    {
     "name": "stdout",
     "output_type": "stream",
     "text": [
      "Collecting torch\n",
      "  Downloading torch-1.11.0-cp38-cp38-win_amd64.whl (158.0 MB)\n"
     ]
    },
    {
     "name": "stderr",
     "output_type": "stream",
     "text": [
      "ERROR: Exception:\n",
      "Traceback (most recent call last):\n",
      "  File \"C:\\Users\\Dicks\\anaconda3\\envs\\open3d\\lib\\site-packages\\pip\\_vendor\\urllib3\\response.py\", line 438, in _error_catcher\n",
      "    yield\n",
      "  File \"C:\\Users\\Dicks\\anaconda3\\envs\\open3d\\lib\\site-packages\\pip\\_vendor\\urllib3\\response.py\", line 519, in read\n",
      "    data = self._fp.read(amt) if not fp_closed else b\"\"\n",
      "  File \"C:\\Users\\Dicks\\anaconda3\\envs\\open3d\\lib\\site-packages\\pip\\_vendor\\cachecontrol\\filewrapper.py\", line 62, in read\n",
      "    data = self.__fp.read(amt)\n",
      "  File \"C:\\Users\\Dicks\\anaconda3\\envs\\open3d\\lib\\http\\client.py\", line 459, in read\n",
      "    n = self.readinto(b)\n",
      "  File \"C:\\Users\\Dicks\\anaconda3\\envs\\open3d\\lib\\http\\client.py\", line 503, in readinto\n",
      "    n = self.fp.readinto(b)\n",
      "  File \"C:\\Users\\Dicks\\anaconda3\\envs\\open3d\\lib\\socket.py\", line 669, in readinto\n",
      "    return self._sock.recv_into(b)\n",
      "  File \"C:\\Users\\Dicks\\anaconda3\\envs\\open3d\\lib\\ssl.py\", line 1241, in recv_into\n",
      "    return self.read(nbytes, buffer)\n",
      "  File \"C:\\Users\\Dicks\\anaconda3\\envs\\open3d\\lib\\ssl.py\", line 1099, in read\n",
      "    return self._sslobj.read(len, buffer)\n",
      "socket.timeout: The read operation timed out\n",
      "\n",
      "During handling of the above exception, another exception occurred:\n",
      "\n",
      "Traceback (most recent call last):\n",
      "  File \"C:\\Users\\Dicks\\anaconda3\\envs\\open3d\\lib\\site-packages\\pip\\_internal\\cli\\base_command.py\", line 173, in _main\n",
      "    status = self.run(options, args)\n",
      "  File \"C:\\Users\\Dicks\\anaconda3\\envs\\open3d\\lib\\site-packages\\pip\\_internal\\cli\\req_command.py\", line 203, in wrapper\n",
      "    return func(self, options, args)\n",
      "  File \"C:\\Users\\Dicks\\anaconda3\\envs\\open3d\\lib\\site-packages\\pip\\_internal\\commands\\install.py\", line 315, in run\n",
      "    requirement_set = resolver.resolve(\n",
      "  File \"C:\\Users\\Dicks\\anaconda3\\envs\\open3d\\lib\\site-packages\\pip\\_internal\\resolution\\resolvelib\\resolver.py\", line 94, in resolve\n",
      "    result = self._result = resolver.resolve(\n",
      "  File \"C:\\Users\\Dicks\\anaconda3\\envs\\open3d\\lib\\site-packages\\pip\\_vendor\\resolvelib\\resolvers.py\", line 472, in resolve\n",
      "    state = resolution.resolve(requirements, max_rounds=max_rounds)\n",
      "  File \"C:\\Users\\Dicks\\anaconda3\\envs\\open3d\\lib\\site-packages\\pip\\_vendor\\resolvelib\\resolvers.py\", line 341, in resolve\n",
      "    self._add_to_criteria(self.state.criteria, r, parent=None)\n",
      "  File \"C:\\Users\\Dicks\\anaconda3\\envs\\open3d\\lib\\site-packages\\pip\\_vendor\\resolvelib\\resolvers.py\", line 172, in _add_to_criteria\n",
      "    if not criterion.candidates:\n",
      "  File \"C:\\Users\\Dicks\\anaconda3\\envs\\open3d\\lib\\site-packages\\pip\\_vendor\\resolvelib\\structs.py\", line 151, in __bool__\n",
      "    return bool(self._sequence)\n",
      "  File \"C:\\Users\\Dicks\\anaconda3\\envs\\open3d\\lib\\site-packages\\pip\\_internal\\resolution\\resolvelib\\found_candidates.py\", line 140, in __bool__\n",
      "    return any(self)\n",
      "  File \"C:\\Users\\Dicks\\anaconda3\\envs\\open3d\\lib\\site-packages\\pip\\_internal\\resolution\\resolvelib\\found_candidates.py\", line 128, in <genexpr>\n",
      "    return (c for c in iterator if id(c) not in self._incompatible_ids)\n",
      "  File \"C:\\Users\\Dicks\\anaconda3\\envs\\open3d\\lib\\site-packages\\pip\\_internal\\resolution\\resolvelib\\found_candidates.py\", line 32, in _iter_built\n",
      "    candidate = func()\n",
      "  File \"C:\\Users\\Dicks\\anaconda3\\envs\\open3d\\lib\\site-packages\\pip\\_internal\\resolution\\resolvelib\\factory.py\", line 204, in _make_candidate_from_link\n",
      "    self._link_candidate_cache[link] = LinkCandidate(\n",
      "  File \"C:\\Users\\Dicks\\anaconda3\\envs\\open3d\\lib\\site-packages\\pip\\_internal\\resolution\\resolvelib\\candidates.py\", line 295, in __init__\n",
      "    super().__init__(\n",
      "  File \"C:\\Users\\Dicks\\anaconda3\\envs\\open3d\\lib\\site-packages\\pip\\_internal\\resolution\\resolvelib\\candidates.py\", line 156, in __init__\n",
      "    self.dist = self._prepare()\n",
      "  File \"C:\\Users\\Dicks\\anaconda3\\envs\\open3d\\lib\\site-packages\\pip\\_internal\\resolution\\resolvelib\\candidates.py\", line 227, in _prepare\n",
      "    dist = self._prepare_distribution()\n",
      "  File \"C:\\Users\\Dicks\\anaconda3\\envs\\open3d\\lib\\site-packages\\pip\\_internal\\resolution\\resolvelib\\candidates.py\", line 305, in _prepare_distribution\n",
      "    return self._factory.preparer.prepare_linked_requirement(\n",
      "  File \"C:\\Users\\Dicks\\anaconda3\\envs\\open3d\\lib\\site-packages\\pip\\_internal\\operations\\prepare.py\", line 508, in prepare_linked_requirement\n",
      "    return self._prepare_linked_requirement(req, parallel_builds)\n",
      "  File \"C:\\Users\\Dicks\\anaconda3\\envs\\open3d\\lib\\site-packages\\pip\\_internal\\operations\\prepare.py\", line 550, in _prepare_linked_requirement\n",
      "    local_file = unpack_url(\n",
      "  File \"C:\\Users\\Dicks\\anaconda3\\envs\\open3d\\lib\\site-packages\\pip\\_internal\\operations\\prepare.py\", line 239, in unpack_url\n",
      "    file = get_http_url(\n",
      "  File \"C:\\Users\\Dicks\\anaconda3\\envs\\open3d\\lib\\site-packages\\pip\\_internal\\operations\\prepare.py\", line 102, in get_http_url\n",
      "    from_path, content_type = download(link, temp_dir.path)\n",
      "  File \"C:\\Users\\Dicks\\anaconda3\\envs\\open3d\\lib\\site-packages\\pip\\_internal\\network\\download.py\", line 145, in __call__\n",
      "    for chunk in chunks:\n",
      "  File \"C:\\Users\\Dicks\\anaconda3\\envs\\open3d\\lib\\site-packages\\pip\\_internal\\cli\\progress_bars.py\", line 144, in iter\n",
      "    for x in it:\n",
      "  File \"C:\\Users\\Dicks\\anaconda3\\envs\\open3d\\lib\\site-packages\\pip\\_internal\\network\\utils.py\", line 63, in response_chunks\n",
      "    for chunk in response.raw.stream(\n",
      "  File \"C:\\Users\\Dicks\\anaconda3\\envs\\open3d\\lib\\site-packages\\pip\\_vendor\\urllib3\\response.py\", line 576, in stream\n",
      "    data = self.read(amt=amt, decode_content=decode_content)\n",
      "  File \"C:\\Users\\Dicks\\anaconda3\\envs\\open3d\\lib\\site-packages\\pip\\_vendor\\urllib3\\response.py\", line 541, in read\n",
      "    raise IncompleteRead(self._fp_bytes_read, self.length_remaining)\n",
      "  File \"C:\\Users\\Dicks\\anaconda3\\envs\\open3d\\lib\\contextlib.py\", line 131, in __exit__\n",
      "    self.gen.throw(type, value, traceback)\n",
      "  File \"C:\\Users\\Dicks\\anaconda3\\envs\\open3d\\lib\\site-packages\\pip\\_vendor\\urllib3\\response.py\", line 443, in _error_catcher\n",
      "    raise ReadTimeoutError(self._pool, None, \"Read timed out.\")\n",
      "pip._vendor.urllib3.exceptions.ReadTimeoutError: HTTPSConnectionPool(host='files.pythonhosted.org', port=443): Read timed out.\n"
     ]
    }
   ],
   "source": [
    "!pip install torch"
   ]
  },
  {
   "cell_type": "code",
   "execution_count": null,
   "id": "60faa3a2-dd23-49b6-bf7d-4462e1a23b49",
   "metadata": {},
   "outputs": [],
   "source": [
    "def SSIM(x, y, C1=1e-4, C2=9e-4, kernel_size=3, stride=1):\n",
    "    \"\"\"\n",
    "    Structural SIMilarity (SSIM) distance between two images.\n",
    "\n",
    "    Parameters\n",
    "    ----------\n",
    "    x,y : torch.Tensor [B,3,H,W]\n",
    "        Input images\n",
    "    C1,C2 : float\n",
    "        SSIM parameters\n",
    "    kernel_size,stride : int\n",
    "        Convolutional parameters\n",
    "\n",
    "    Returns\n",
    "    -------\n",
    "    ssim : torch.Tensor [1]\n",
    "        SSIM distance\n",
    "    \"\"\"\n",
    "    pool2d = nn.AvgPool2d(kernel_size, stride=stride)\n",
    "    refl = nn.ReflectionPad2d(1)\n",
    "\n",
    "    x, y = refl(x), refl(y)\n",
    "    mu_x = pool2d(x)\n",
    "    mu_y = pool2d(y)\n",
    "\n",
    "    mu_x_mu_y = mu_x * mu_y\n",
    "    mu_x_sq = mu_x.pow(2)\n",
    "    mu_y_sq = mu_y.pow(2)\n",
    "\n",
    "    sigma_x = pool2d(x.pow(2)) - mu_x_sq\n",
    "    sigma_y = pool2d(y.pow(2)) - mu_y_sq\n",
    "    sigma_xy = pool2d(x * y) - mu_x_mu_y\n",
    "    v1 = 2 * sigma_xy + C2\n",
    "    v2 = sigma_x + sigma_y + C2\n",
    "\n",
    "    # Where is the global ssim\n",
    "    # I think AvgPool basically calculate the LOCAL SSIM\n",
    "    # While Global SSIM is computer from the sigma's and the mu's. But we should test it out.\n",
    "    \n",
    "    # SSIM Nominator and denominator\n",
    "    # SSIM_N = (2*mu_xy + C)* (2*sigmaxy+C2)\n",
    "    # SSIM_D = (mu_x^2 + mu_y^2+C1) * (sigma_x^2 + sigma_y^2 + C2)\n",
    "    ssim_n = (2 * mu_x_mu_y + C1) * v1\n",
    "    ssim_d = (mu_x_sq + mu_y_sq + C1) * v2\n",
    "    ssim = ssim_n / ssim_d\n",
    "\n",
    "    return ssim"
   ]
  },
  {
   "cell_type": "code",
   "execution_count": null,
   "id": "e236747d-7095-4c43-a643-c0db511bc623",
   "metadata": {},
   "outputs": [],
   "source": [
    "def ssim_to_img(ssim):\n",
    "    arr = np.asarray(ssim[0])\n",
    "    arr = arr.transpose((1,2,0))\n",
    "    return arr"
   ]
  },
  {
   "cell_type": "code",
   "execution_count": null,
   "id": "523a6364-458e-47ee-8be2-18f147add6c2",
   "metadata": {},
   "outputs": [],
   "source": [
    "tensorify = lambda x: torch.Tensor(x.transpose((2, 0, 1))).unsqueeze(0).float().div(255.0)"
   ]
  },
  {
   "cell_type": "code",
   "execution_count": null,
   "id": "bf638f28-3881-4cd9-adfe-b1c3d7963cb9",
   "metadata": {},
   "outputs": [],
   "source": [
    "left = tensorify(cv2.imread(\"images/left.jpg\"))\n",
    "right = tensorify(cv2.imread(\"images/right.jpg\"))\n",
    "\n",
    "similarity = SSIM(left,right)\n",
    "ssim_img = ssim_to_img(similarity)\n",
    "#import matplotlib.pyplot as plt\n",
    "#plt.plot(ssim_img)\n",
    "#imshow(ssim_img)\n",
    "p"
   ]
  },
  {
   "cell_type": "code",
   "execution_count": null,
   "id": "ccbd2a22-9464-4661-afd7-64b545f4cc43",
   "metadata": {},
   "outputs": [],
   "source": []
  }
 ],
 "metadata": {
  "kernelspec": {
   "display_name": "Python 3 (ipykernel)",
   "language": "python",
   "name": "python3"
  },
  "language_info": {
   "codemirror_mode": {
    "name": "ipython",
    "version": 3
   },
   "file_extension": ".py",
   "mimetype": "text/x-python",
   "name": "python",
   "nbconvert_exporter": "python",
   "pygments_lexer": "ipython3",
   "version": "3.8.12"
  }
 },
 "nbformat": 4,
 "nbformat_minor": 5
}
